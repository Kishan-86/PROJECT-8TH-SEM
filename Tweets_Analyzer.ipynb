{
 "cells": [
  {
   "cell_type": "code",
   "execution_count": 1,
   "metadata": {
    "scrolled": true
   },
   "outputs": [
    {
     "name": "stdout",
     "output_type": "stream",
     "text": [
      "Requirement already satisfied: tweepy in c:\\users\\poonam\\appdata\\roaming\\python\\python38\\site-packages (3.8.0)\n",
      "Requirement already satisfied: six>=1.10.0 in c:\\users\\poonam\\anaconda3\\lib\\site-packages (from tweepy) (1.15.0)\n",
      "Requirement already satisfied: PySocks>=1.5.7 in c:\\users\\poonam\\anaconda3\\lib\\site-packages (from tweepy) (1.7.1)\n",
      "Requirement already satisfied: requests>=2.11.1 in c:\\users\\poonam\\appdata\\roaming\\python\\python38\\site-packages (from tweepy) (2.23.0)\n",
      "Requirement already satisfied: requests-oauthlib>=0.7.0 in c:\\users\\poonam\\appdata\\roaming\\python\\python38\\site-packages (from tweepy) (1.3.0)\n",
      "Requirement already satisfied: urllib3!=1.25.0,!=1.25.1,<1.26,>=1.21.1 in c:\\users\\poonam\\anaconda3\\lib\\site-packages (from requests>=2.11.1->tweepy) (1.25.9)\n",
      "Requirement already satisfied: chardet<4,>=3.0.2 in c:\\users\\poonam\\anaconda3\\lib\\site-packages (from requests>=2.11.1->tweepy) (3.0.4)\n",
      "Requirement already satisfied: certifi>=2017.4.17 in c:\\users\\poonam\\anaconda3\\lib\\site-packages (from requests>=2.11.1->tweepy) (2020.4.5.2)\n",
      "Requirement already satisfied: idna<3,>=2.5 in c:\\users\\poonam\\anaconda3\\lib\\site-packages (from requests>=2.11.1->tweepy) (2.9)\n",
      "Requirement already satisfied: oauthlib>=3.0.0 in c:\\users\\poonam\\appdata\\roaming\\python\\python38\\site-packages (from requests-oauthlib>=0.7.0->tweepy) (3.1.0)\n",
      "Note: you may need to restart the kernel to use updated packages.\n"
     ]
    }
   ],
   "source": [
    "pip install tweepy"
   ]
  },
  {
   "cell_type": "code",
   "execution_count": 2,
   "metadata": {
    "colab": {},
    "colab_type": "code",
    "id": "CQa3kvnTMSPy",
    "scrolled": true
   },
   "outputs": [],
   "source": [
    "import tweepy\n",
    "from textblob import TextBlob\n",
    "from wordcloud import WordCloud\n",
    "import pandas as pd\n",
    "import numpy as np\n",
    "import re\n",
    "import matplotlib.pyplot as plt\n",
    "plt.style.use('fivethirtyeight')"
   ]
  },
  {
   "cell_type": "code",
   "execution_count": 3,
   "metadata": {
    "colab": {},
    "colab_type": "code",
    "id": "sXwKD84XTIal"
   },
   "outputs": [],
   "source": [
    "consumerKey = \"dESc2np7NEyIR4OyQff5EKqDv\"\n",
    "consumerSecret = \"7YzJC6ylSHcLMrXLantZxPEwm0zGa3xOuSFuEvRe42giL7vmK0\"\n",
    "accessToken = \"714414466373394433-4df0quDG5QsnyonmwmtAzpfqGOpa6Oh\"\n",
    "accessTokenSecret = \"sNXDoqS5Pt959Eme9Emg26lIF8Y9HJi6pyytO615dKnnC\""
   ]
  },
  {
   "cell_type": "code",
   "execution_count": 4,
   "metadata": {
    "colab": {},
    "colab_type": "code",
    "id": "jS0UwQE2Mh2F"
   },
   "outputs": [],
   "source": [
    "# Create the authentication object\n",
    "authenticate = tweepy.OAuthHandler(consumerKey, consumerSecret) \n",
    "    \n",
    "# Set the access token and access token secret\n",
    "authenticate.set_access_token(accessToken, accessTokenSecret) \n",
    "    \n",
    "# Creating the API object while passing in auth information\n",
    "api = tweepy.API(authenticate, wait_on_rate_limit = True)"
   ]
  },
  {
   "cell_type": "code",
   "execution_count": 5,
   "metadata": {
    "colab": {
     "base_uri": "https://localhost:8080/",
     "height": 275
    },
    "colab_type": "code",
    "id": "ms5iUU7ShNbm",
    "outputId": "da429536-ba21-4a55-e04d-3c8ce8ef8fde"
   },
   "outputs": [
    {
     "name": "stdout",
     "output_type": "stream",
     "text": [
      "Show the 5 recent tweets:\n",
      "\n",
      "1) RT @SatyendarJain: Delhi Govt. is all set to revolutionise the school system through a unique initiative-Aam Aadmi School Health Clinics, w…\n",
      "\n",
      "2) RT @kgahlot: Flagged off 100 new CNG buses along with all-new Electric bus from DTC Indraprastha depot today. Under visionary leadership of…\n",
      "\n",
      "3) दिल्ली के सरकारी स्कूलों में बच्चों को अच्छी शिक्षा के साथ-साथ अब उनकी अच्छी सेहत का भी ख़्याल रखा जाएगा। ये शानदार ‘स्कूल हेल्थ क्लीनिक’ भी अब हमारे सरकारी स्कूलों का हिस्सा होंगे। https://t.co/RSqfFXDOGA\n",
      "\n",
      "4) ये भाजपा है। निहायत गुंडों और लफ़ंगों की पार्टी। जब ये हार रहे होते हैं तो अपनी औक़ात दिखा देते हैं। इन्हें जनता इनकी औक़ात बतायेगी। https://t.co/dyULebGhYi\n",
      "\n",
      "5) RT @msisodia: 2 key MoUs signed between Delhi Govt &amp; British Council @inbritish\n",
      "\n",
      "1. Work together in Teacher Training, Spoken English &amp; Hig…\n",
      "\n"
     ]
    }
   ],
   "source": [
    "# Extract 100 tweets from the twitter user\n",
    "posts = api.user_timeline(screen_name=\"ArvindKejriwal\", count = 100, lang =\"en\", tweet_mode=\"extended\")\n",
    "\n",
    "#  Print the last 5 tweets\n",
    "print(\"Show the 5 recent tweets:\\n\")\n",
    "i=1\n",
    "for tweet in posts[:5]:\n",
    "    print(str(i) +') '+ tweet.full_text + '\\n')\n",
    "    i= i+1"
   ]
  },
  {
   "cell_type": "code",
   "execution_count": 6,
   "metadata": {
    "colab": {
     "base_uri": "https://localhost:8080/",
     "height": 204
    },
    "colab_type": "code",
    "id": "r1FBTS1chVoe",
    "outputId": "5e6765dc-0415-4a05-b571-cd87e5dcfb23"
   },
   "outputs": [
    {
     "data": {
      "text/html": [
       "<div>\n",
       "<style scoped>\n",
       "    .dataframe tbody tr th:only-of-type {\n",
       "        vertical-align: middle;\n",
       "    }\n",
       "\n",
       "    .dataframe tbody tr th {\n",
       "        vertical-align: top;\n",
       "    }\n",
       "\n",
       "    .dataframe thead th {\n",
       "        text-align: right;\n",
       "    }\n",
       "</style>\n",
       "<table border=\"1\" class=\"dataframe\">\n",
       "  <thead>\n",
       "    <tr style=\"text-align: right;\">\n",
       "      <th></th>\n",
       "      <th>Tweets</th>\n",
       "    </tr>\n",
       "  </thead>\n",
       "  <tbody>\n",
       "    <tr>\n",
       "      <th>0</th>\n",
       "      <td>RT @SatyendarJain: Delhi Govt. is all set to r...</td>\n",
       "    </tr>\n",
       "    <tr>\n",
       "      <th>1</th>\n",
       "      <td>RT @kgahlot: Flagged off 100 new CNG buses alo...</td>\n",
       "    </tr>\n",
       "    <tr>\n",
       "      <th>2</th>\n",
       "      <td>दिल्ली के सरकारी स्कूलों में बच्चों को अच्छी श...</td>\n",
       "    </tr>\n",
       "    <tr>\n",
       "      <th>3</th>\n",
       "      <td>ये भाजपा है। निहायत गुंडों और लफ़ंगों की पार्ट...</td>\n",
       "    </tr>\n",
       "    <tr>\n",
       "      <th>4</th>\n",
       "      <td>RT @msisodia: 2 key MoUs signed between Delhi ...</td>\n",
       "    </tr>\n",
       "  </tbody>\n",
       "</table>\n",
       "</div>"
      ],
      "text/plain": [
       "                                              Tweets\n",
       "0  RT @SatyendarJain: Delhi Govt. is all set to r...\n",
       "1  RT @kgahlot: Flagged off 100 new CNG buses alo...\n",
       "2  दिल्ली के सरकारी स्कूलों में बच्चों को अच्छी श...\n",
       "3  ये भाजपा है। निहायत गुंडों और लफ़ंगों की पार्ट...\n",
       "4  RT @msisodia: 2 key MoUs signed between Delhi ..."
      ]
     },
     "execution_count": 6,
     "metadata": {},
     "output_type": "execute_result"
    }
   ],
   "source": [
    "# Create a dataframe with a column called Tweets\n",
    "df = pd.DataFrame([tweet.full_text for tweet in posts], columns=['Tweets'])\n",
    "# Show the first 5 rows of data\n",
    "df.head()"
   ]
  },
  {
   "cell_type": "code",
   "execution_count": 11,
   "metadata": {
    "colab": {
     "base_uri": "https://localhost:8080/",
     "height": 419
    },
    "colab_type": "code",
    "id": "4IjgopLwiUHm",
    "outputId": "08eb9d33-0f59-4f80-aeaf-e157a2b804a1"
   },
   "outputs": [
    {
     "data": {
      "text/plain": [
       "<bound method NDFrame.head of                                                Tweets  Subjectivity  Polarity\n",
       "0   : Delhi Govt. is all set to revolutionise the ...      1.000000  0.375000\n",
       "1   : Flagged off 100 new CNG buses along with all...      0.454545  0.136364\n",
       "2   दिल्ली के सरकारी स्कूलों में बच्चों को अच्छी श...      0.000000  0.000000\n",
       "3   ये भाजपा है। निहायत गुंडों और लफ़ंगों की पार्ट...      0.000000  0.000000\n",
       "4   : 2 key MoUs signed between Delhi Govt &amp; B...      0.333333  0.000000\n",
       "..                                                ...           ...       ...\n",
       "95  _ind: Ludhiana ke Autowalo ko Suniye 🤣🤣🤣\\n\\nIk...      0.000000  0.000000\n",
       "96  Give one chance to AAP in Goa. Voting for Cong...      0.500000  0.136364\n",
       "97  Saw this little girl in St Cruz today. \\n\\nBet...      0.650000  0.106250\n",
       "98           __: Goa me bhi AAP Chahiye Public ko ✌️       0.066667  0.000000\n",
       "99  Addressing a public meeting in Goa's Poriem co...      0.283333  0.068182\n",
       "\n",
       "[100 rows x 3 columns]>"
      ]
     },
     "execution_count": 11,
     "metadata": {},
     "output_type": "execute_result"
    }
   ],
   "source": [
    "# Create a function to clean the tweets\n",
    "def cleanTxt(text):\n",
    " text = re.sub('@[A-Za-z0–9]+', '', text) #Removing @mentions\n",
    " text = re.sub('#', '', text) # Removing '#' hash tag\n",
    " text = re.sub('RT[\\s]+', '', text) # Removing RT\n",
    " text = re.sub('https?:\\/\\/\\S+', '', text) # Removing hyperlink\n",
    " \n",
    " return text\n",
    "\n",
    "\n",
    "# Clean the tweets\n",
    "df['Tweets'] = df['Tweets'].apply(cleanTxt)\n",
    "\n",
    "# Show the cleaned tweets\n",
    "df.head"
   ]
  },
  {
   "cell_type": "code",
   "execution_count": 12,
   "metadata": {
    "colab": {
     "base_uri": "https://localhost:8080/",
     "height": 419
    },
    "colab_type": "code",
    "id": "l5qM8O2dkqP2",
    "outputId": "f911ae78-5936-414b-e7b6-a0ab653f74ab"
   },
   "outputs": [
    {
     "data": {
      "text/plain": [
       "<bound method NDFrame.head of                                                Tweets  Subjectivity  Polarity\n",
       "0   : Delhi Govt. is all set to revolutionise the ...      1.000000  0.375000\n",
       "1   : Flagged off 100 new CNG buses along with all...      0.454545  0.136364\n",
       "2   दिल्ली के सरकारी स्कूलों में बच्चों को अच्छी श...      0.000000  0.000000\n",
       "3   ये भाजपा है। निहायत गुंडों और लफ़ंगों की पार्ट...      0.000000  0.000000\n",
       "4   : 2 key MoUs signed between Delhi Govt &amp; B...      0.333333  0.000000\n",
       "..                                                ...           ...       ...\n",
       "95  _ind: Ludhiana ke Autowalo ko Suniye 🤣🤣🤣\\n\\nIk...      0.000000  0.000000\n",
       "96  Give one chance to AAP in Goa. Voting for Cong...      0.500000  0.136364\n",
       "97  Saw this little girl in St Cruz today. \\n\\nBet...      0.650000  0.106250\n",
       "98           __: Goa me bhi AAP Chahiye Public ko ✌️       0.066667  0.000000\n",
       "99  Addressing a public meeting in Goa's Poriem co...      0.283333  0.068182\n",
       "\n",
       "[100 rows x 3 columns]>"
      ]
     },
     "execution_count": 12,
     "metadata": {},
     "output_type": "execute_result"
    }
   ],
   "source": [
    "# Create a function to get the subjectivity\n",
    "def getSubjectivity(text):\n",
    "   return TextBlob(text).sentiment.subjectivity\n",
    "\n",
    "# Create a function to get the polarity\n",
    "def getPolarity(text):\n",
    "   return  TextBlob(text).sentiment.polarity\n",
    "\n",
    "\n",
    "# Create two new columns 'Subjectivity' & 'Polarity'\n",
    "df['Subjectivity'] = df['Tweets'].apply(getSubjectivity)\n",
    "df['Polarity'] = df['Tweets'].apply(getPolarity)\n",
    "\n",
    "# Show the new dataframe with columns 'Subjectivity' & 'Polarity'\n",
    "df.head"
   ]
  },
  {
   "cell_type": "code",
   "execution_count": 13,
   "metadata": {
    "colab": {
     "base_uri": "https://localhost:8080/",
     "height": 256
    },
    "colab_type": "code",
    "id": "jRBsKGDLldj1",
    "outputId": "c3c95d1a-748e-41cf-fbc9-3fde71719b7f"
   },
   "outputs": [
    {
     "data": {
      "image/png": "[encoded data removed]",
      "text/plain": [
       "<Figure size 432x288 with 1 Axes>"
      ]
     },
     "metadata": {},
     "output_type": "display_data"
    }
   ],
   "source": [
    "# word cloud visualization\n",
    "allWords = ' '.join([twts for twts in df['Tweets']])\n",
    "wordCloud = WordCloud(width=500, height=300, random_state=21, max_font_size=110).generate(allWords)\n",
    "\n",
    "\n",
    "plt.imshow(wordCloud, interpolation=\"bilinear\")\n",
    "plt.axis('off')\n",
    "plt.show()"
   ]
  },
  {
   "cell_type": "code",
   "execution_count": 15,
   "metadata": {
    "colab": {
     "base_uri": "https://localhost:8080/",
     "height": 419
    },
    "colab_type": "code",
    "id": "6_O7oUrUlkPX",
    "outputId": "80289240-5eca-447c-f3c2-5d1073cb4867"
   },
   "outputs": [
    {
     "data": {
      "text/plain": [
       "<bound method NDFrame.head of                                                Tweets  Subjectivity  Polarity  \\\n",
       "0   : Delhi Govt. is all set to revolutionise the ...      1.000000  0.375000   \n",
       "1   : Flagged off 100 new CNG buses along with all...      0.454545  0.136364   \n",
       "2   दिल्ली के सरकारी स्कूलों में बच्चों को अच्छी श...      0.000000  0.000000   \n",
       "3   ये भाजपा है। निहायत गुंडों और लफ़ंगों की पार्ट...      0.000000  0.000000   \n",
       "4   : 2 key MoUs signed between Delhi Govt &amp; B...      0.333333  0.000000   \n",
       "..                                                ...           ...       ...   \n",
       "95  _ind: Ludhiana ke Autowalo ko Suniye 🤣🤣🤣\\n\\nIk...      0.000000  0.000000   \n",
       "96  Give one chance to AAP in Goa. Voting for Cong...      0.500000  0.136364   \n",
       "97  Saw this little girl in St Cruz today. \\n\\nBet...      0.650000  0.106250   \n",
       "98           __: Goa me bhi AAP Chahiye Public ko ✌️       0.066667  0.000000   \n",
       "99  Addressing a public meeting in Goa's Poriem co...      0.283333  0.068182   \n",
       "\n",
       "    Analysis  \n",
       "0   Positive  \n",
       "1   Positive  \n",
       "2    Neutral  \n",
       "3    Neutral  \n",
       "4    Neutral  \n",
       "..       ...  \n",
       "95   Neutral  \n",
       "96  Positive  \n",
       "97  Positive  \n",
       "98   Neutral  \n",
       "99  Positive  \n",
       "\n",
       "[100 rows x 4 columns]>"
      ]
     },
     "execution_count": 15,
     "metadata": {},
     "output_type": "execute_result"
    }
   ],
   "source": [
    "# Create a function to compute negative (-1), neutral (0) and positive (+1) analysis\n",
    "def getAnalysis(score):\n",
    "  if score < 0:\n",
    "    return 'Negative'\n",
    "  elif score == 0:\n",
    "    return 'Neutral'\n",
    "  else:\n",
    "    return 'Positive'\n",
    "    \n",
    "df['Analysis'] = df['Polarity'].apply(getAnalysis)\n",
    "# Show the dataframe\n",
    "df.head"
   ]
  },
  {
   "cell_type": "code",
   "execution_count": null,
   "metadata": {
    "colab": {
     "base_uri": "https://localhost:8080/",
     "height": 374
    },
    "colab_type": "code",
    "id": "w-x6HPyml6h_",
    "outputId": "7b7a8ab2-ba28-4321-fe76-9892b103b9d0"
   },
   "outputs": [],
   "source": [
    "# Plotting and visualizing the counts\n",
    "plt.title('Sentiment Analysis')\n",
    "plt.xlabel('Sentiment')\n",
    "plt.ylabel('Counts')\n",
    "df['Analysis'].value_counts().plot(kind = 'bar')\n",
    "plt.show()"
   ]
  },
  {
   "cell_type": "code",
   "execution_count": null,
   "metadata": {
    "colab": {},
    "colab_type": "code",
    "id": "gUkLGmihnXmZ"
   },
   "outputs": [],
   "source": []
  },
  {
   "cell_type": "code",
   "execution_count": null,
   "metadata": {},
   "outputs": [],
   "source": []
  },
  {
   "cell_type": "code",
   "execution_count": null,
   "metadata": {},
   "outputs": [],
   "source": []
  },
  {
   "cell_type": "code",
   "execution_count": null,
   "metadata": {},
   "outputs": [],
   "source": []
  },
  {
   "cell_type": "code",
   "execution_count": null,
   "metadata": {},
   "outputs": [],
   "source": []
  },
  {
   "cell_type": "code",
   "execution_count": null,
   "metadata": {},
   "outputs": [],
   "source": []
  }
 ],
 "metadata": {
  "colab": {
   "name": "Tweets Analyzer.ipynb",
   "provenance": []
  },
  "kernelspec": {
   "display_name": "Python 3",
   "language": "python",
   "name": "python3"
  },
  "language_info": {
   "codemirror_mode": {
    "name": "ipython",
    "version": 3
   },
   "file_extension": ".py",
   "mimetype": "text/x-python",
   "name": "python",
   "nbconvert_exporter": "python",
   "pygments_lexer": "ipython3",
   "version": "3.8.5"
  }
 },
 "nbformat": 4,
 "nbformat_minor": 1
}
